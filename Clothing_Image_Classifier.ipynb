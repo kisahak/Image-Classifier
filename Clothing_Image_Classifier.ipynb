{
 "cells": [
  {
   "cell_type": "code",
   "execution_count": 12,
   "metadata": {},
   "outputs": [
    {
     "name": "stdout",
     "output_type": "stream",
     "text": [
      "2.13.1\n"
     ]
    }
   ],
   "source": [
    "import tensorflow as tf \n",
    "from tensorflow import keras\n",
    "import matplotlib.pyplot as plt\n",
    "print(tf.__version__)\n"
   ]
  },
  {
   "cell_type": "code",
   "execution_count": 7,
   "metadata": {},
   "outputs": [
    {
     "name": "stdout",
     "output_type": "stream",
     "text": [
      "Downloading data from https://storage.googleapis.com/tensorflow/tf-keras-datasets/train-labels-idx1-ubyte.gz\n"
     ]
    },
    {
     "name": "stdout",
     "output_type": "stream",
     "text": [
      "29515/29515 [==============================] - 0s 1us/step\n",
      "Downloading data from https://storage.googleapis.com/tensorflow/tf-keras-datasets/train-images-idx3-ubyte.gz\n",
      "26421880/26421880 [==============================] - 10s 0us/step\n",
      "Downloading data from https://storage.googleapis.com/tensorflow/tf-keras-datasets/t10k-labels-idx1-ubyte.gz\n",
      "5148/5148 [==============================] - 0s 0us/step\n",
      "Downloading data from https://storage.googleapis.com/tensorflow/tf-keras-datasets/t10k-images-idx3-ubyte.gz\n",
      "4422102/4422102 [==============================] - 2s 0us/step\n"
     ]
    }
   ],
   "source": [
    "#load the fashion data \n",
    "fashion_mnist = keras.datasets.fashion_mnist\n",
    "(X_train_full, y_train_full), (X_test, y_test) = fashion_mnist.load_data()\n"
   ]
  },
  {
   "cell_type": "code",
   "execution_count": 8,
   "metadata": {},
   "outputs": [],
   "source": [
    "#create a validation set \n",
    "#since neural network will be trained with gradient descent we must scale the input data DOWN to 0's and 1's\n",
    "X_valid, X_train = X_train_full[:5000] / 255.0, X_train_full[5000:] / 255.0\n",
    "y_valid, y_train =y_train_full[:5000], y_train_full[5000:]\n"
   ]
  },
  {
   "cell_type": "code",
   "execution_count": 9,
   "metadata": {},
   "outputs": [],
   "source": [
    "class_names = [\"T-shirt/top\", \"Trouser\", \"Pullover\", \"Dress\", \"Coat\",\"Sandal\", \"Shirt\", \"Sneaker\", \"Bag\", \"Ankle boot\"]"
   ]
  },
  {
   "cell_type": "code",
   "execution_count": 37,
   "metadata": {},
   "outputs": [
    {
     "data": {
      "image/png": "[encoded data removed]",
      "text/plain": [
       "<Figure size 432x288 with 5 Axes>"
      ]
     },
     "metadata": {
      "needs_background": "light"
     },
     "output_type": "display_data"
    }
   ],
   "source": [
    "\n",
    "#display some clothing items \n",
    "sample_image = class_names[y_train[0]]\n",
    "plt.figure()\n",
    "num_items = 5\n",
    "for i in range(num_items):\n",
    "    plt.subplot(1,num_items, i+1)    \n",
    "    plt.imshow(X_train[i], cmap = 'gray')\n",
    "    plt.title(f\"{class_names[y_train[i]]}\") \n",
    "    plt.axis('off')\n"
   ]
  },
  {
   "cell_type": "code",
   "execution_count": 38,
   "metadata": {},
   "outputs": [
    {
     "name": "stdout",
     "output_type": "stream",
     "text": [
      "Model: \"sequential_3\"\n",
      "_________________________________________________________________\n",
      " Layer (type)                Output Shape              Param #   \n",
      "=================================================================\n",
      " flatten_1 (Flatten)         (None, 784)               0         \n",
      "                                                                 \n",
      " dense_3 (Dense)             (None, 300)               235500    \n",
      "                                                                 \n",
      " dense_4 (Dense)             (None, 100)               30100     \n",
      "                                                                 \n",
      " dense_5 (Dense)             (None, 10)                1010      \n",
      "                                                                 \n",
      "=================================================================\n",
      "Total params: 266610 (1.02 MB)\n",
      "Trainable params: 266610 (1.02 MB)\n",
      "Non-trainable params: 0 (0.00 Byte)\n",
      "_________________________________________________________________\n"
     ]
    }
   ],
   "source": [
    "#building the network\n",
    "#Sequential API\n",
    "model = keras.models.Sequential()\n",
    "\n",
    "#keras.layers.InputLayer(input_shape=[28,28])\n",
    "\n",
    "model = keras.models.Sequential([\n",
    "#Flatten, converts each image into a 1-D array \n",
    "keras.layers.Flatten(input_shape=[28, 28]),\n",
    "\n",
    "#Computation of weight matrices! \n",
    "keras.layers.Dense(300, activation=\"relu\"),\n",
    "keras.layers.Dense(100, activation=\"relu\"),\n",
    "\n",
    "#Output layer using softmax \n",
    "keras.layers.Dense(10, activation=\"softmax\")\n",
    "])\n",
    "model.summary()"
   ]
  },
  {
   "cell_type": "code",
   "execution_count": 41,
   "metadata": {},
   "outputs": [],
   "source": [
    "model.compile(\n",
    "    loss = keras.losses.sparse_categorical_crossentropy,\n",
    "    optimizer = keras.optimizers.SGD(), \n",
    "    metrics = [\"accuracy\"]\n",
    ")"
   ]
  },
  {
   "cell_type": "code",
   "execution_count": 47,
   "metadata": {},
   "outputs": [
    {
     "name": "stdout",
     "output_type": "stream",
     "text": [
      "Epoch 1/30\n",
      "1719/1719 [==============================] - 4s 3ms/step - loss: 0.2238 - accuracy: 0.9197 - val_loss: 0.3011 - val_accuracy: 0.8906\n",
      "Epoch 2/30\n",
      "1719/1719 [==============================] - 4s 2ms/step - loss: 0.2207 - accuracy: 0.9209 - val_loss: 0.2883 - val_accuracy: 0.8918\n",
      "Epoch 3/30\n",
      "1719/1719 [==============================] - 4s 2ms/step - loss: 0.2164 - accuracy: 0.9223 - val_loss: 0.3053 - val_accuracy: 0.8920\n",
      "Epoch 4/30\n",
      "1719/1719 [==============================] - 4s 2ms/step - loss: 0.2128 - accuracy: 0.9239 - val_loss: 0.3107 - val_accuracy: 0.8878\n",
      "Epoch 5/30\n",
      "1719/1719 [==============================] - 4s 2ms/step - loss: 0.2092 - accuracy: 0.9251 - val_loss: 0.3056 - val_accuracy: 0.8854\n",
      "Epoch 6/30\n",
      "1719/1719 [==============================] - 4s 2ms/step - loss: 0.2059 - accuracy: 0.9264 - val_loss: 0.2990 - val_accuracy: 0.8932\n",
      "Epoch 7/30\n",
      "1719/1719 [==============================] - 4s 2ms/step - loss: 0.2043 - accuracy: 0.9274 - val_loss: 0.3171 - val_accuracy: 0.8858\n",
      "Epoch 8/30\n",
      "1719/1719 [==============================] - 4s 2ms/step - loss: 0.2008 - accuracy: 0.9284 - val_loss: 0.3004 - val_accuracy: 0.8896\n",
      "Epoch 9/30\n",
      "1719/1719 [==============================] - 4s 3ms/step - loss: 0.1976 - accuracy: 0.9295 - val_loss: 0.2948 - val_accuracy: 0.8924\n",
      "Epoch 10/30\n",
      "1719/1719 [==============================] - 4s 2ms/step - loss: 0.1936 - accuracy: 0.9299 - val_loss: 0.2904 - val_accuracy: 0.8976\n",
      "Epoch 11/30\n",
      "1719/1719 [==============================] - 4s 2ms/step - loss: 0.1902 - accuracy: 0.9327 - val_loss: 0.3034 - val_accuracy: 0.8918\n",
      "Epoch 12/30\n",
      "1719/1719 [==============================] - 4s 2ms/step - loss: 0.1879 - accuracy: 0.9335 - val_loss: 0.2844 - val_accuracy: 0.8968\n",
      "Epoch 13/30\n",
      "1719/1719 [==============================] - 4s 2ms/step - loss: 0.1847 - accuracy: 0.9345 - val_loss: 0.2920 - val_accuracy: 0.8968\n",
      "Epoch 14/30\n",
      "1719/1719 [==============================] - 4s 2ms/step - loss: 0.1816 - accuracy: 0.9354 - val_loss: 0.2955 - val_accuracy: 0.8952\n",
      "Epoch 15/30\n",
      "1719/1719 [==============================] - 4s 2ms/step - loss: 0.1804 - accuracy: 0.9354 - val_loss: 0.2940 - val_accuracy: 0.8974\n",
      "Epoch 16/30\n",
      "1719/1719 [==============================] - 5s 3ms/step - loss: 0.1761 - accuracy: 0.9373 - val_loss: 0.2939 - val_accuracy: 0.8972\n",
      "Epoch 17/30\n",
      "1719/1719 [==============================] - 5s 3ms/step - loss: 0.1732 - accuracy: 0.9390 - val_loss: 0.2921 - val_accuracy: 0.8966\n",
      "Epoch 18/30\n",
      "1719/1719 [==============================] - 4s 2ms/step - loss: 0.1701 - accuracy: 0.9394 - val_loss: 0.3094 - val_accuracy: 0.8916\n",
      "Epoch 19/30\n",
      "1719/1719 [==============================] - 4s 2ms/step - loss: 0.1678 - accuracy: 0.9397 - val_loss: 0.3019 - val_accuracy: 0.8920\n",
      "Epoch 20/30\n",
      "1719/1719 [==============================] - 4s 2ms/step - loss: 0.1661 - accuracy: 0.9418 - val_loss: 0.3023 - val_accuracy: 0.8920\n",
      "Epoch 21/30\n",
      "1719/1719 [==============================] - 4s 2ms/step - loss: 0.1623 - accuracy: 0.9427 - val_loss: 0.2968 - val_accuracy: 0.8990\n",
      "Epoch 22/30\n",
      "1719/1719 [==============================] - 4s 2ms/step - loss: 0.1601 - accuracy: 0.9435 - val_loss: 0.2920 - val_accuracy: 0.8962\n",
      "Epoch 23/30\n",
      "1719/1719 [==============================] - 4s 2ms/step - loss: 0.1585 - accuracy: 0.9437 - val_loss: 0.2915 - val_accuracy: 0.8972\n",
      "Epoch 24/30\n",
      "1719/1719 [==============================] - 4s 2ms/step - loss: 0.1548 - accuracy: 0.9447 - val_loss: 0.3315 - val_accuracy: 0.8854\n",
      "Epoch 25/30\n",
      "1719/1719 [==============================] - 4s 2ms/step - loss: 0.1529 - accuracy: 0.9457 - val_loss: 0.3296 - val_accuracy: 0.8876\n",
      "Epoch 26/30\n",
      "1719/1719 [==============================] - 4s 2ms/step - loss: 0.1500 - accuracy: 0.9469 - val_loss: 0.3068 - val_accuracy: 0.8910\n",
      "Epoch 27/30\n",
      "1719/1719 [==============================] - 4s 2ms/step - loss: 0.1472 - accuracy: 0.9481 - val_loss: 0.3013 - val_accuracy: 0.8944\n",
      "Epoch 28/30\n",
      "1719/1719 [==============================] - 4s 2ms/step - loss: 0.1447 - accuracy: 0.9485 - val_loss: 0.2899 - val_accuracy: 0.8944\n",
      "Epoch 29/30\n",
      "1719/1719 [==============================] - 4s 2ms/step - loss: 0.1431 - accuracy: 0.9495 - val_loss: 0.3038 - val_accuracy: 0.8952\n",
      "Epoch 30/30\n",
      "1719/1719 [==============================] - 4s 2ms/step - loss: 0.1408 - accuracy: 0.9501 - val_loss: 0.3032 - val_accuracy: 0.8966\n"
     ]
    }
   ],
   "source": [
    "history = model.fit(X_train, y_train, epochs=30, validation_data = (X_valid, y_valid))\n"
   ]
  },
  {
   "cell_type": "code",
   "execution_count": 58,
   "metadata": {},
   "outputs": [
    {
     "data": {
      "text/plain": [
       "{'loss': [0.2238154113292694,\n",
       "  0.22070670127868652,\n",
       "  0.21641609072685242,\n",
       "  0.21282963454723358,\n",
       "  0.2092021256685257,\n",
       "  0.20591071248054504,\n",
       "  0.2042536437511444,\n",
       "  0.20077942311763763,\n",
       "  0.19762642681598663,\n",
       "  0.19356605410575867,\n",
       "  0.19015781581401825,\n",
       "  0.18793237209320068,\n",
       "  0.18466421961784363,\n",
       "  0.18164831399917603,\n",
       "  0.1803957223892212,\n",
       "  0.17612393200397491,\n",
       "  0.1732439398765564,\n",
       "  0.17013466358184814,\n",
       "  0.16781297326087952,\n",
       "  0.16607631742954254,\n",
       "  0.16227197647094727,\n",
       "  0.16011972725391388,\n",
       "  0.15848025679588318,\n",
       "  0.154793381690979,\n",
       "  0.1528809368610382,\n",
       "  0.14998936653137207,\n",
       "  0.1472499966621399,\n",
       "  0.1447449028491974,\n",
       "  0.14309020340442657,\n",
       "  0.14079649746418],\n",
       " 'accuracy': [0.9197090864181519,\n",
       "  0.9209454655647278,\n",
       "  0.9222909212112427,\n",
       "  0.923909068107605,\n",
       "  0.9250909090042114,\n",
       "  0.9264000058174133,\n",
       "  0.9273818135261536,\n",
       "  0.9283999800682068,\n",
       "  0.9294909238815308,\n",
       "  0.9299091100692749,\n",
       "  0.9327454566955566,\n",
       "  0.9335454702377319,\n",
       "  0.9345272779464722,\n",
       "  0.9353636503219604,\n",
       "  0.9354181885719299,\n",
       "  0.9372909069061279,\n",
       "  0.9390363693237305,\n",
       "  0.9394000172615051,\n",
       "  0.9397454261779785,\n",
       "  0.9418181777000427,\n",
       "  0.9427090883255005,\n",
       "  0.9434727430343628,\n",
       "  0.9437090754508972,\n",
       "  0.9447273015975952,\n",
       "  0.9457454681396484,\n",
       "  0.9469090700149536,\n",
       "  0.9480909109115601,\n",
       "  0.9485272765159607,\n",
       "  0.9495454430580139,\n",
       "  0.9501272439956665],\n",
       " 'val_loss': [0.30114299058914185,\n",
       "  0.288324773311615,\n",
       "  0.3053116500377655,\n",
       "  0.3106881082057953,\n",
       "  0.3056032359600067,\n",
       "  0.299021452665329,\n",
       "  0.3171022832393646,\n",
       "  0.3004070222377777,\n",
       "  0.2947753667831421,\n",
       "  0.2903526723384857,\n",
       "  0.3034081757068634,\n",
       "  0.28437477350234985,\n",
       "  0.29201290011405945,\n",
       "  0.2955460548400879,\n",
       "  0.2939850687980652,\n",
       "  0.2939368486404419,\n",
       "  0.2921058237552643,\n",
       "  0.309413343667984,\n",
       "  0.30192017555236816,\n",
       "  0.30234387516975403,\n",
       "  0.2968188524246216,\n",
       "  0.2920307517051697,\n",
       "  0.291533887386322,\n",
       "  0.33147305250167847,\n",
       "  0.3296276926994324,\n",
       "  0.306839257478714,\n",
       "  0.3013324737548828,\n",
       "  0.28990185260772705,\n",
       "  0.3038201332092285,\n",
       "  0.3032083213329315],\n",
       " 'val_accuracy': [0.8906000256538391,\n",
       "  0.8917999863624573,\n",
       "  0.8920000195503235,\n",
       "  0.8877999782562256,\n",
       "  0.8853999972343445,\n",
       "  0.8931999802589417,\n",
       "  0.8858000040054321,\n",
       "  0.8895999789237976,\n",
       "  0.8924000263214111,\n",
       "  0.897599995136261,\n",
       "  0.8917999863624573,\n",
       "  0.8967999815940857,\n",
       "  0.8967999815940857,\n",
       "  0.8952000141143799,\n",
       "  0.8974000215530396,\n",
       "  0.8971999883651733,\n",
       "  0.8966000080108643,\n",
       "  0.8916000127792358,\n",
       "  0.8920000195503235,\n",
       "  0.8920000195503235,\n",
       "  0.8989999890327454,\n",
       "  0.8962000012397766,\n",
       "  0.8971999883651733,\n",
       "  0.8853999972343445,\n",
       "  0.8876000046730042,\n",
       "  0.890999972820282,\n",
       "  0.8944000005722046,\n",
       "  0.8944000005722046,\n",
       "  0.8952000141143799,\n",
       "  0.8966000080108643]}"
      ]
     },
     "execution_count": 58,
     "metadata": {},
     "output_type": "execute_result"
    }
   ],
   "source": [
    "history.history"
   ]
  },
  {
   "cell_type": "code",
   "execution_count": 60,
   "metadata": {},
   "outputs": [
    {
     "data": {
      "image/png": "[encoded data removed]",
      "text/plain": [
       "<Figure size 576x360 with 1 Axes>"
      ]
     },
     "metadata": {
      "needs_background": "light"
     },
     "output_type": "display_data"
    }
   ],
   "source": [
    "#after two iterations of training!! (calling fit function twice)\n",
    "import pandas as pd\n",
    "import matplotlib.pyplot as plt\n",
    "pd.DataFrame(history.history).plot(figsize=(8, 5))\n",
    "plt.grid(True)\n",
    "plt.gca().set_ylim(0, 1) # set the vertical range to [0-1]\n",
    "plt.show()"
   ]
  },
  {
   "cell_type": "code",
   "execution_count": 79,
   "metadata": {},
   "outputs": [
    {
     "name": "stdout",
     "output_type": "stream",
     "text": [
      "1/1 [==============================] - 0s 21ms/step\n"
     ]
    },
    {
     "data": {
      "text/plain": [
       "array([[0., 0., 0., 0., 0., 0., 0., 0., 0., 1.],\n",
       "       [0., 0., 1., 0., 0., 0., 0., 0., 0., 0.],\n",
       "       [0., 1., 0., 0., 0., 0., 0., 0., 0., 0.]], dtype=float32)"
      ]
     },
     "execution_count": 79,
     "metadata": {},
     "output_type": "execute_result"
    }
   ],
   "source": [
    "# Now let's predict! \n",
    "X_new = X_test[:3]\n",
    "y_proba = model.predict(X_new)\n",
    "y_proba"
   ]
  },
  {
   "cell_type": "code",
   "execution_count": 80,
   "metadata": {},
   "outputs": [
    {
     "name": "stdout",
     "output_type": "stream",
     "text": [
      "1/1 [==============================] - 0s 22ms/step\n"
     ]
    }
   ],
   "source": [
    "import numpy as np\n",
    "y_pred_probabilities = model.predict(X_new)\n",
    "y_pred_classes = np.argmax(y_pred_probabilities, axis=-1)\n"
   ]
  },
  {
   "cell_type": "code",
   "execution_count": 67,
   "metadata": {},
   "outputs": [
    {
     "data": {
      "text/plain": [
       "array([9, 2, 1])"
      ]
     },
     "execution_count": 67,
     "metadata": {},
     "output_type": "execute_result"
    }
   ],
   "source": [
    "y_pred_classes"
   ]
  },
  {
   "cell_type": "code",
   "execution_count": 68,
   "metadata": {},
   "outputs": [
    {
     "data": {
      "text/plain": [
       "array(['Ankle boot', 'Pullover', 'Trouser'], dtype='<U11')"
      ]
     },
     "execution_count": 68,
     "metadata": {},
     "output_type": "execute_result"
    }
   ],
   "source": [
    "np.array(class_names)[y_pred_classes]"
   ]
  }
 ],
 "metadata": {
  "kernelspec": {
   "display_name": "base",
   "language": "python",
   "name": "python3"
  },
  "language_info": {
   "codemirror_mode": {
    "name": "ipython",
    "version": 3
   },
   "file_extension": ".py",
   "mimetype": "text/x-python",
   "name": "python",
   "nbconvert_exporter": "python",
   "pygments_lexer": "ipython3",
   "version": "3.8.8"
  }
 },
 "nbformat": 4,
 "nbformat_minor": 2
}
